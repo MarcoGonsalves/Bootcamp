{
  "nbformat": 4,
  "nbformat_minor": 0,
  "metadata": {
    "colab": {
      "name": "Basic Python 1 Programming for Data Science.ipynb",
      "provenance": [],
      "collapsed_sections": [],
      "authorship_tag": "ABX9TyMDhI1jfYEq3qrN3JGbksjX",
      "include_colab_link": true
    },
    "kernelspec": {
      "name": "python3",
      "display_name": "Python 3"
    }
  },
  "cells": [
    {
      "cell_type": "markdown",
      "metadata": {
        "id": "view-in-github",
        "colab_type": "text"
      },
      "source": [
        "<a href=\"https://colab.research.google.com/github/MarcoGonsalves/Python-Beginners-Collection/blob/master/Basic_Python_1_Programming_for_Data_Science.ipynb\" target=\"_parent\"><img src=\"https://colab.research.google.com/assets/colab-badge.svg\" alt=\"Open In Colab\"/></a>"
      ]
    },
    {
      "cell_type": "markdown",
      "metadata": {
        "id": "NSdsr4viVZCp",
        "colab_type": "text"
      },
      "source": [
        "# Python Exercise"
      ]
    },
    {
      "cell_type": "markdown",
      "metadata": {
        "id": "CZfOWrkmVgDh",
        "colab_type": "text"
      },
      "source": [
        "Data collection from birdwatchers at various locations/sites."
      ]
    },
    {
      "cell_type": "code",
      "metadata": {
        "id": "igGrSwLFTwUH",
        "colab_type": "code",
        "colab": {}
      },
      "source": [
        "data = [['A1', 28], ['A2', 32], ['A3', 1], ['A4', 0],\n",
        "        ['A5', 10], ['A6', 22], ['A7', 30], ['A8', 19],\n",
        "\t\t['B1', 145], ['B2', 27], ['B3', 36], ['B4', 25],\n",
        "\t\t['B5', 9], ['B6', 38], ['B7', 21], ['B8', 12],\n",
        "\t\t['C1', 122], ['C2', 87], ['C3', 36], ['C4', 3],\n",
        "\t\t['D1', 0], ['D2', 5], ['D3', 55], ['D4', 62],\n",
        "\t\t['D5', 98], ['D6', 32]]"
      ],
      "execution_count": 1,
      "outputs": []
    },
    {
      "cell_type": "code",
      "metadata": {
        "id": "Jc8vuKrUT60e",
        "colab_type": "code",
        "colab": {
          "base_uri": "https://localhost:8080/",
          "height": 34
        },
        "outputId": "a70b234a-b18d-4e47-e206-c3074f96192e"
      },
      "source": [
        "# How many sites are there? \n",
        "len(data)"
      ],
      "execution_count": 2,
      "outputs": [
        {
          "output_type": "execute_result",
          "data": {
            "text/plain": [
              "26"
            ]
          },
          "metadata": {
            "tags": []
          },
          "execution_count": 2
        }
      ]
    },
    {
      "cell_type": "markdown",
      "metadata": {
        "id": "68w8LXn8WC0V",
        "colab_type": "text"
      },
      "source": [
        "How many birds were counted at the 10th site?"
      ]
    },
    {
      "cell_type": "code",
      "metadata": {
        "id": "RLqvAcCVVUTt",
        "colab_type": "code",
        "colab": {
          "base_uri": "https://localhost:8080/",
          "height": 34
        },
        "outputId": "ed4472dc-25d5-481d-8e17-c86663b6583b"
      },
      "source": [
        "site = 9\n",
        "\n",
        "print(f'{data[site][1]} birds were counted at the 10th site')"
      ],
      "execution_count": 3,
      "outputs": [
        {
          "output_type": "stream",
          "text": [
            "27 birds were counted at the 10th site\n"
          ],
          "name": "stdout"
        }
      ]
    },
    {
      "cell_type": "markdown",
      "metadata": {
        "id": "lVL1gM42owvx",
        "colab_type": "text"
      },
      "source": [
        "How many birds were counted at the last site?"
      ]
    },
    {
      "cell_type": "code",
      "metadata": {
        "id": "tUn3pPRvnf_n",
        "colab_type": "code",
        "colab": {
          "base_uri": "https://localhost:8080/",
          "height": 34
        },
        "outputId": "61ca8014-e961-4881-e728-02a5ca7a23d0"
      },
      "source": [
        "last_site = -1\n",
        "\n",
        "print(f'The last site had {data[last_site][1]} birds')"
      ],
      "execution_count": 4,
      "outputs": [
        {
          "output_type": "stream",
          "text": [
            "The last site had 32 birds\n"
          ],
          "name": "stdout"
        }
      ]
    },
    {
      "cell_type": "markdown",
      "metadata": {
        "id": "1epLKc0upRPZ",
        "colab_type": "text"
      },
      "source": [
        "What is the total number of birds counted across all sites?"
      ]
    },
    {
      "cell_type": "code",
      "metadata": {
        "id": "r84rbun4pRpg",
        "colab_type": "code",
        "colab": {
          "base_uri": "https://localhost:8080/",
          "height": 34
        },
        "outputId": "1ecf258d-fd8e-4c5c-9326-e18144a73b0d"
      },
      "source": [
        "# for loop to pull out the bird count from the sublist\n",
        "bird_total = 0\n",
        "x = 0\n",
        "for b in data:\n",
        "  birds = data[x][1]\n",
        "  bird_total += birds\n",
        "  x += 1\n",
        "print(bird_total)"
      ],
      "execution_count": 9,
      "outputs": [
        {
          "output_type": "stream",
          "text": [
            "955\n"
          ],
          "name": "stdout"
        }
      ]
    },
    {
      "cell_type": "markdown",
      "metadata": {
        "id": "gWlFr3VB06J2",
        "colab_type": "text"
      },
      "source": [
        "What is the average number of birds seen on a site?"
      ]
    },
    {
      "cell_type": "code",
      "metadata": {
        "id": "9m5N2omw1Bin",
        "colab_type": "code",
        "colab": {
          "base_uri": "https://localhost:8080/",
          "height": 34
        },
        "outputId": "7b015a69-b34b-4dd9-fd83-10900e06eddf"
      },
      "source": [
        "print(f'The total birds divided by the sites visited gives and average of {round(bird_total / len(data), 2)} birds per site')"
      ],
      "execution_count": 15,
      "outputs": [
        {
          "output_type": "stream",
          "text": [
            "The total birds divided by the sites visited gives and average of 36.73 birds per site\n"
          ],
          "name": "stdout"
        }
      ]
    },
    {
      "cell_type": "markdown",
      "metadata": {
        "id": "vLuzNMM62-4i",
        "colab_type": "text"
      },
      "source": [
        "What is the total number of birds counted on sites with codes beginning with C?"
      ]
    },
    {
      "cell_type": "code",
      "metadata": {
        "id": "YbdbZkez3CWM",
        "colab_type": "code",
        "colab": {
          "base_uri": "https://localhost:8080/",
          "height": 34
        },
        "outputId": "9fe6438a-2b2f-43db-b1e2-9b5b33e4bfc3"
      },
      "source": [
        "C_sites = 0\n",
        "y = 0\n",
        "for s in data:\n",
        "  site = data[y][0]\n",
        "  y += 1\n",
        "  if site.startswith('C') == True:\n",
        "    C_sites += 1\n",
        "  else:\n",
        "    pass\n",
        "print(C_sites)"
      ],
      "execution_count": 22,
      "outputs": [
        {
          "output_type": "stream",
          "text": [
            "4\n"
          ],
          "name": "stdout"
        }
      ]
    }
  ]
}