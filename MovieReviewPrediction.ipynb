{
  "nbformat": 4,
  "nbformat_minor": 0,
  "metadata": {
    "colab": {
      "name": "Capstone Task 18.ipynb",
      "provenance": []
    },
    "kernelspec": {
      "name": "python3",
      "display_name": "Python 3"
    }
  },
  "cells": [
    {
      "cell_type": "code",
      "metadata": {
        "id": "8cgea0OcniCz",
        "colab_type": "code",
        "colab": {
          "base_uri": "https://localhost:8080/",
          "height": 97
        },
        "outputId": "22bde95c-3ead-4ddb-9349-45f787daeb0f"
      },
      "source": [
        "# Import resources\n",
        "from keras.datasets import imdb\n",
        "from keras.preprocessing import sequence\n",
        "from keras import Sequential\n",
        "from keras.layers import Embedding, LSTM, Dense, Dropout\n",
        "import numpy as np"
      ],
      "execution_count": 1,
      "outputs": [
        {
          "output_type": "stream",
          "text": [
            "Using TensorFlow backend.\n"
          ],
          "name": "stderr"
        },
        {
          "output_type": "display_data",
          "data": {
            "text/html": [
              "<p style=\"color: red;\">\n",
              "The default version of TensorFlow in Colab will soon switch to TensorFlow 2.x.<br>\n",
              "We recommend you <a href=\"https://www.tensorflow.org/guide/migrate\" target=\"_blank\">upgrade</a> now \n",
              "or ensure your notebook will continue to use TensorFlow 1.x via the <code>%tensorflow_version 1.x</code> magic:\n",
              "<a href=\"https://colab.research.google.com/notebooks/tensorflow_version.ipynb\" target=\"_blank\">more info</a>.</p>\n"
            ],
            "text/plain": [
              "<IPython.core.display.HTML object>"
            ]
          },
          "metadata": {
            "tags": []
          }
        }
      ]
    },
    {
      "cell_type": "markdown",
      "metadata": {
        "id": "QwUfiCwgqua1",
        "colab_type": "text"
      },
      "source": [
        "###1. Get the dataset"
      ]
    },
    {
      "cell_type": "code",
      "metadata": {
        "id": "pMZBxNobpMxG",
        "colab_type": "code",
        "colab": {
          "base_uri": "https://localhost:8080/",
          "height": 51
        },
        "outputId": "55b3e9dc-162f-4205-c5c0-898cb5b08ef8"
      },
      "source": [
        "# Download data from keras.datasets, limit of 5000 words\n",
        "(X_train, y_train), (X_test, y_test) = imdb.load_data(num_words=5000)"
      ],
      "execution_count": 2,
      "outputs": [
        {
          "output_type": "stream",
          "text": [
            "Downloading data from https://s3.amazonaws.com/text-datasets/imdb.npz\n",
            "17465344/17464789 [==============================] - 0s 0us/step\n"
          ],
          "name": "stdout"
        }
      ]
    },
    {
      "cell_type": "code",
      "metadata": {
        "id": "GzykI_4Np41k",
        "colab_type": "code",
        "colab": {
          "base_uri": "https://localhost:8080/",
          "height": 51
        },
        "outputId": "97e9a0de-0a97-4e05-8766-42fa6bea5aa5"
      },
      "source": [
        "# Download indexed review words\n",
        "words = imdb.get_word_index()\n",
        "# Format indexed words\n",
        "words_index = {index: word for word, index in words.items()}"
      ],
      "execution_count": 3,
      "outputs": [
        {
          "output_type": "stream",
          "text": [
            "Downloading data from https://s3.amazonaws.com/text-datasets/imdb_word_index.json\n",
            "1646592/1641221 [==============================] - 0s 0us/step\n"
          ],
          "name": "stdout"
        }
      ]
    },
    {
      "cell_type": "markdown",
      "metadata": {
        "id": "s7Dd3Mmcq6Rr",
        "colab_type": "text"
      },
      "source": [
        "###2. Preprocessing the Data"
      ]
    },
    {
      "cell_type": "code",
      "metadata": {
        "id": "9mv3ML2_uoJg",
        "colab_type": "code",
        "colab": {}
      },
      "source": [
        "# Prepare data for model by padding reviews and set max length to 500\n",
        "X_train = sequence.pad_sequences(X_train, maxlen=500)\n",
        "X_test = sequence.pad_sequences(X_test, maxlen=500)"
      ],
      "execution_count": 0,
      "outputs": []
    },
    {
      "cell_type": "code",
      "metadata": {
        "id": "WEr_jJ4hzDYH",
        "colab_type": "code",
        "colab": {}
      },
      "source": [
        "# Split data into validation set\n",
        "X_validation = X_train[:200]\n",
        "y_validation = y_train[:200]\n",
        "X_train1 = X_train[200:]\n",
        "y_train1 = y_train[200:]"
      ],
      "execution_count": 0,
      "outputs": []
    },
    {
      "cell_type": "markdown",
      "metadata": {
        "id": "Wy9lD9N3vSSr",
        "colab_type": "text"
      },
      "source": [
        "###3. Build the Model"
      ]
    },
    {
      "cell_type": "code",
      "metadata": {
        "id": "8DwomaxUvT6B",
        "colab_type": "code",
        "colab": {
          "base_uri": "https://localhost:8080/",
          "height": 343
        },
        "outputId": "04ec5dd6-36c2-4268-fb76-e6c190be8670"
      },
      "source": [
        "# Build the model\n",
        "model = Sequential()\n",
        "model.add(Embedding(5000, 32, input_length=500))\n",
        "model.add(LSTM(128))\n",
        "model.add(Dropout(0.5))\n",
        "model.add(Dense(1, activation='sigmoid'))\n",
        "\n",
        "# Compile model\n",
        "model.compile(optimizer='adam', loss='binary_crossentropy', metrics=['accuracy'])"
      ],
      "execution_count": 6,
      "outputs": [
        {
          "output_type": "stream",
          "text": [
            "WARNING:tensorflow:From /usr/local/lib/python3.6/dist-packages/keras/backend/tensorflow_backend.py:66: The name tf.get_default_graph is deprecated. Please use tf.compat.v1.get_default_graph instead.\n",
            "\n",
            "WARNING:tensorflow:From /usr/local/lib/python3.6/dist-packages/keras/backend/tensorflow_backend.py:541: The name tf.placeholder is deprecated. Please use tf.compat.v1.placeholder instead.\n",
            "\n",
            "WARNING:tensorflow:From /usr/local/lib/python3.6/dist-packages/keras/backend/tensorflow_backend.py:4432: The name tf.random_uniform is deprecated. Please use tf.random.uniform instead.\n",
            "\n",
            "WARNING:tensorflow:From /usr/local/lib/python3.6/dist-packages/keras/backend/tensorflow_backend.py:148: The name tf.placeholder_with_default is deprecated. Please use tf.compat.v1.placeholder_with_default instead.\n",
            "\n",
            "WARNING:tensorflow:From /usr/local/lib/python3.6/dist-packages/keras/backend/tensorflow_backend.py:3733: calling dropout (from tensorflow.python.ops.nn_ops) with keep_prob is deprecated and will be removed in a future version.\n",
            "Instructions for updating:\n",
            "Please use `rate` instead of `keep_prob`. Rate should be set to `rate = 1 - keep_prob`.\n",
            "WARNING:tensorflow:From /usr/local/lib/python3.6/dist-packages/keras/optimizers.py:793: The name tf.train.Optimizer is deprecated. Please use tf.compat.v1.train.Optimizer instead.\n",
            "\n",
            "WARNING:tensorflow:From /usr/local/lib/python3.6/dist-packages/keras/backend/tensorflow_backend.py:3657: The name tf.log is deprecated. Please use tf.math.log instead.\n",
            "\n",
            "WARNING:tensorflow:From /usr/local/lib/python3.6/dist-packages/tensorflow_core/python/ops/nn_impl.py:183: where (from tensorflow.python.ops.array_ops) is deprecated and will be removed in a future version.\n",
            "Instructions for updating:\n",
            "Use tf.where in 2.0, which has the same broadcast rule as np.where\n"
          ],
          "name": "stdout"
        }
      ]
    },
    {
      "cell_type": "markdown",
      "metadata": {
        "id": "bOSFcGTVxZuI",
        "colab_type": "text"
      },
      "source": [
        "###4. Train the model"
      ]
    },
    {
      "cell_type": "code",
      "metadata": {
        "id": "LFMYUkCeMpgm",
        "colab_type": "code",
        "outputId": "94e760eb-4bae-4b13-e8ee-73954a38a13e",
        "colab": {
          "base_uri": "https://localhost:8080/",
          "height": 513
        }
      },
      "source": [
        "# Fit model\n",
        "model.fit(X_train, y_train, validation_split=0.01, batch_size=125, epochs=5, verbose=1)"
      ],
      "execution_count": 7,
      "outputs": [
        {
          "output_type": "stream",
          "text": [
            "WARNING:tensorflow:From /usr/local/lib/python3.6/dist-packages/keras/backend/tensorflow_backend.py:1033: The name tf.assign_add is deprecated. Please use tf.compat.v1.assign_add instead.\n",
            "\n",
            "WARNING:tensorflow:From /usr/local/lib/python3.6/dist-packages/keras/backend/tensorflow_backend.py:1020: The name tf.assign is deprecated. Please use tf.compat.v1.assign instead.\n",
            "\n",
            "WARNING:tensorflow:From /usr/local/lib/python3.6/dist-packages/keras/backend/tensorflow_backend.py:3005: The name tf.Session is deprecated. Please use tf.compat.v1.Session instead.\n",
            "\n",
            "Train on 24750 samples, validate on 250 samples\n",
            "Epoch 1/5\n",
            "WARNING:tensorflow:From /usr/local/lib/python3.6/dist-packages/keras/backend/tensorflow_backend.py:190: The name tf.get_default_session is deprecated. Please use tf.compat.v1.get_default_session instead.\n",
            "\n",
            "WARNING:tensorflow:From /usr/local/lib/python3.6/dist-packages/keras/backend/tensorflow_backend.py:197: The name tf.ConfigProto is deprecated. Please use tf.compat.v1.ConfigProto instead.\n",
            "\n",
            "WARNING:tensorflow:From /usr/local/lib/python3.6/dist-packages/keras/backend/tensorflow_backend.py:207: The name tf.global_variables is deprecated. Please use tf.compat.v1.global_variables instead.\n",
            "\n",
            "WARNING:tensorflow:From /usr/local/lib/python3.6/dist-packages/keras/backend/tensorflow_backend.py:216: The name tf.is_variable_initialized is deprecated. Please use tf.compat.v1.is_variable_initialized instead.\n",
            "\n",
            "WARNING:tensorflow:From /usr/local/lib/python3.6/dist-packages/keras/backend/tensorflow_backend.py:223: The name tf.variables_initializer is deprecated. Please use tf.compat.v1.variables_initializer instead.\n",
            "\n",
            "24750/24750 [==============================] - 265s 11ms/step - loss: 0.5096 - acc: 0.7499 - val_loss: 0.3004 - val_acc: 0.8680\n",
            "Epoch 2/5\n",
            "24750/24750 [==============================] - 264s 11ms/step - loss: 0.3246 - acc: 0.8672 - val_loss: 0.3782 - val_acc: 0.8880\n",
            "Epoch 3/5\n",
            "24750/24750 [==============================] - 263s 11ms/step - loss: 0.2654 - acc: 0.8973 - val_loss: 0.2887 - val_acc: 0.9000\n",
            "Epoch 4/5\n",
            "24750/24750 [==============================] - 263s 11ms/step - loss: 0.2317 - acc: 0.9115 - val_loss: 0.2686 - val_acc: 0.8960\n",
            "Epoch 5/5\n",
            "24750/24750 [==============================] - 264s 11ms/step - loss: 0.2208 - acc: 0.9181 - val_loss: 0.2961 - val_acc: 0.9040\n"
          ],
          "name": "stdout"
        },
        {
          "output_type": "execute_result",
          "data": {
            "text/plain": [
              "<keras.callbacks.History at 0x7f53289ed198>"
            ]
          },
          "metadata": {
            "tags": []
          },
          "execution_count": 7
        }
      ]
    },
    {
      "cell_type": "markdown",
      "metadata": {
        "id": "Rr_uElEQDb3g",
        "colab_type": "text"
      },
      "source": [
        "###5. Test the Model"
      ]
    },
    {
      "cell_type": "code",
      "metadata": {
        "id": "KuNIb9aRDkJK",
        "colab_type": "code",
        "colab": {
          "base_uri": "https://localhost:8080/",
          "height": 51
        },
        "outputId": "20b62055-caba-4e1a-8918-61e4270eb18b"
      },
      "source": [
        "# Evaluate accuracy\n",
        "model_accuracy = model.evaluate(X_test, y_test, verbose=1)\n",
        "\n",
        "# View accuracy evaluation\n",
        "print(f'Model accuracy: {model_accuracy[1]*100}')"
      ],
      "execution_count": 8,
      "outputs": [
        {
          "output_type": "stream",
          "text": [
            "25000/25000 [==============================] - 91s 4ms/step\n",
            "Model accuracy: 86.74\n"
          ],
          "name": "stdout"
        }
      ]
    },
    {
      "cell_type": "markdown",
      "metadata": {
        "id": "QdXcHkkPDfN8",
        "colab_type": "text"
      },
      "source": [
        "###6. Predict Something"
      ]
    },
    {
      "cell_type": "code",
      "metadata": {
        "id": "VuU14yc2FgQT",
        "colab_type": "code",
        "colab": {
          "base_uri": "https://localhost:8080/",
          "height": 88
        },
        "outputId": "d492f0c0-05f6-4441-919c-898ff3e411e3"
      },
      "source": [
        "# Select a random integer\n",
        "num = np.random.randint(low=0, high=100, size=1)\n",
        "\n",
        "# Make a prediction randomly chosen\n",
        "pred = model.predict(X_test[[num]])\n",
        "\n",
        "if (pred < .5) and (y_test[num] == 0):\n",
        "  print(f'Negative review, predictive score: {pred}, actual:{y_test[num]}')\n",
        "elif (pred >= .5) and (y_test[num] == 1):\n",
        "  print(f'Positive review, predictive score: {pred}, actual:{y_test[num]}')\n",
        "else:\n",
        "  print(f'The prediction is incorrect')"
      ],
      "execution_count": 59,
      "outputs": [
        {
          "output_type": "stream",
          "text": [
            "Positive review, predictive score: [[0.55510193]], actual:[1]\n"
          ],
          "name": "stdout"
        },
        {
          "output_type": "stream",
          "text": [
            "/usr/local/lib/python3.6/dist-packages/ipykernel_launcher.py:4: FutureWarning: Using a non-tuple sequence for multidimensional indexing is deprecated; use `arr[tuple(seq)]` instead of `arr[seq]`. In the future this will be interpreted as an array index, `arr[np.array(seq)]`, which will result either in an error or a different result.\n",
            "  after removing the cwd from sys.path.\n"
          ],
          "name": "stderr"
        }
      ]
    }
  ]
}
