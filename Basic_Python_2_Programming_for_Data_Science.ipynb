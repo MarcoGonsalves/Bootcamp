{
  "nbformat": 4,
  "nbformat_minor": 0,
  "metadata": {
    "colab": {
      "name": "Basic Python 2 Programming for Data Science.ipynb",
      "provenance": [],
      "collapsed_sections": [],
      "authorship_tag": "ABX9TyPUoP0690d7clEkcnfSfXH1",
      "include_colab_link": true
    },
    "kernelspec": {
      "name": "python3",
      "display_name": "Python 3"
    }
  },
  "cells": [
    {
      "cell_type": "markdown",
      "metadata": {
        "id": "view-in-github",
        "colab_type": "text"
      },
      "source": [
        "<a href=\"https://colab.research.google.com/github/MarcoGonsalves/Python-Beginners-Collection/blob/master/Basic_Python_2_Programming_for_Data_Science.ipynb\" target=\"_parent\"><img src=\"https://colab.research.google.com/assets/colab-badge.svg\" alt=\"Open In Colab\"/></a>"
      ]
    },
    {
      "cell_type": "markdown",
      "metadata": {
        "id": "d_tdzy8Q7oUe",
        "colab_type": "text"
      },
      "source": [
        "# DNA Exercise"
      ]
    },
    {
      "cell_type": "markdown",
      "metadata": {
        "id": "7dJiMazk79eg",
        "colab_type": "text"
      },
      "source": [
        "Data collected from small preliminary study"
      ]
    },
    {
      "cell_type": "code",
      "metadata": {
        "id": "Me5S3jej7ehU",
        "colab_type": "code",
        "colab": {}
      },
      "source": [
        "import pandas as pd"
      ],
      "execution_count": 123,
      "outputs": []
    },
    {
      "cell_type": "markdown",
      "metadata": {
        "id": "aEd7gdHS8W1B",
        "colab_type": "text"
      },
      "source": [
        "Import the data into a data structure"
      ]
    },
    {
      "cell_type": "code",
      "metadata": {
        "id": "gXoCGEsh8U5W",
        "colab_type": "code",
        "colab": {
          "base_uri": "https://localhost:8080/",
          "height": 204
        },
        "outputId": "b1b5ed1d-67be-4f62-c40e-2d8fd53a4fdd"
      },
      "source": [
        "dna_data = pd.read_csv('dna_data.csv')\n",
        "\n",
        "dna_data.head()"
      ],
      "execution_count": 124,
      "outputs": [
        {
          "output_type": "execute_result",
          "data": {
            "text/html": [
              "<div>\n",
              "<style scoped>\n",
              "    .dataframe tbody tr th:only-of-type {\n",
              "        vertical-align: middle;\n",
              "    }\n",
              "\n",
              "    .dataframe tbody tr th {\n",
              "        vertical-align: top;\n",
              "    }\n",
              "\n",
              "    .dataframe thead th {\n",
              "        text-align: right;\n",
              "    }\n",
              "</style>\n",
              "<table border=\"1\" class=\"dataframe\">\n",
              "  <thead>\n",
              "    <tr style=\"text-align: right;\">\n",
              "      <th></th>\n",
              "      <th>id</th>\n",
              "      <th>earlength</th>\n",
              "      <th>dnaseq</th>\n",
              "    </tr>\n",
              "  </thead>\n",
              "  <tbody>\n",
              "    <tr>\n",
              "      <th>0</th>\n",
              "      <td>17A</td>\n",
              "      <td>5.1</td>\n",
              "      <td>CCGCATCTTGACTTAACTGACATATTACCATAGATGACTAGCCATG...</td>\n",
              "    </tr>\n",
              "    <tr>\n",
              "      <th>1</th>\n",
              "      <td>24P</td>\n",
              "      <td>7.5</td>\n",
              "      <td>GCTATGACTTGCTTAGCTACGTATGAAGGAAGAAACTTTTGTGTAT...</td>\n",
              "    </tr>\n",
              "    <tr>\n",
              "      <th>2</th>\n",
              "      <td>09Q</td>\n",
              "      <td>12.2</td>\n",
              "      <td>CCGCCGATTGATACAGGGGACGGTGACGTCGTCATAGATTCGGCAC...</td>\n",
              "    </tr>\n",
              "    <tr>\n",
              "      <th>3</th>\n",
              "      <td>65Y</td>\n",
              "      <td>9.9</td>\n",
              "      <td>GCAGGAGAAGTTCTTAACCTTCTCGTAGGACGTCAACCTATTCTTT...</td>\n",
              "    </tr>\n",
              "    <tr>\n",
              "      <th>4</th>\n",
              "      <td>19N</td>\n",
              "      <td>10.0</td>\n",
              "      <td>TCTTCATCCTTATCAAAGTTTGGAGTCAATGATCAGGATTATTGCC...</td>\n",
              "    </tr>\n",
              "  </tbody>\n",
              "</table>\n",
              "</div>"
            ],
            "text/plain": [
              "    id  earlength                                             dnaseq\n",
              "0  17A        5.1  CCGCATCTTGACTTAACTGACATATTACCATAGATGACTAGCCATG...\n",
              "1  24P        7.5  GCTATGACTTGCTTAGCTACGTATGAAGGAAGAAACTTTTGTGTAT...\n",
              "2  09Q       12.2  CCGCCGATTGATACAGGGGACGGTGACGTCGTCATAGATTCGGCAC...\n",
              "3  65Y        9.9  GCAGGAGAAGTTCTTAACCTTCTCGTAGGACGTCAACCTATTCTTT...\n",
              "4  19N       10.0  TCTTCATCCTTATCAAAGTTTGGAGTCAATGATCAGGATTATTGCC..."
            ]
          },
          "metadata": {
            "tags": []
          },
          "execution_count": 124
        }
      ]
    },
    {
      "cell_type": "markdown",
      "metadata": {
        "id": "NxLkphdfI4Jh",
        "colab_type": "text"
      },
      "source": [
        "Loop over the rows in the dataset, check to see if the ear length is large (>10 cm) or small (<=10 cm) and determine the GC-content of the DNA sequence (i.e., the percentage of bases that are either G or C)"
      ]
    },
    {
      "cell_type": "code",
      "metadata": {
        "id": "BzUH5PWlI5CJ",
        "colab_type": "code",
        "colab": {
          "base_uri": "https://localhost:8080/",
          "height": 187
        },
        "outputId": "35a8ec5a-e653-4628-aa40-731fbaf866c8"
      },
      "source": [
        "# Loop through database\n",
        "for i in dna_data.iterrows():\n",
        "  # Determine subject id and calculate the percentage 'G' or 'C' base\n",
        "  id = i[1]['id']\n",
        "  GC_base = i[1]['dnaseq'].count('G' or 'C') / len(i[1]['dnaseq']) *100\n",
        "  # Check ear size and classify. Print answer\n",
        "  if i[1]['earlength'] > 10:\n",
        "    print(f'Subject {id} has a large ear and {GC_base}% G or C bases')\n",
        "  else:\n",
        "    print(f'Subject {id} has a small ear and {GC_base}% G or C bases')"
      ],
      "execution_count": 125,
      "outputs": [
        {
          "output_type": "stream",
          "text": [
            "Subject 17A has a small ear and 20.0% G or C bases\n",
            "Subject 24P has a small ear and 22.0% G or C bases\n",
            "Subject 09Q has a large ear and 30.0% G or C bases\n",
            "Subject 65Y has a small ear and 19.0% G or C bases\n",
            "Subject 19N has a small ear and 17.0% G or C bases\n",
            "Subject 92K has a large ear and 33.0% G or C bases\n",
            "Subject 33W has a small ear and 24.0% G or C bases\n",
            "Subject 98C has a large ear and 32.0% G or C bases\n",
            "Subject 75G has a small ear and 20.0% G or C bases\n",
            "Subject 88Q has a large ear and 27.0% G or C bases\n"
          ],
          "name": "stdout"
        }
      ]
    },
    {
      "cell_type": "markdown",
      "metadata": {
        "id": "drSEx4fQVe_U",
        "colab_type": "text"
      },
      "source": [
        "Create new table where the first column has the ID for the individual, the second column contains the string ‘large’ or the string ‘small’ depending on the size of the individuals ears, and the third column contains the GC content of the DNA sequence"
      ]
    },
    {
      "cell_type": "code",
      "metadata": {
        "id": "Mo1AxRRRrf2M",
        "colab_type": "code",
        "colab": {}
      },
      "source": [
        "# Listing id's from dataframe\n",
        "id_list = dna_data['id'].values.tolist()"
      ],
      "execution_count": 126,
      "outputs": []
    },
    {
      "cell_type": "code",
      "metadata": {
        "id": "fCJ1PYPMoz95",
        "colab_type": "code",
        "colab": {}
      },
      "source": [
        "ear_size = []\n",
        "# Listing ear size's from dataframe\n",
        "for size in dna_data.iterrows():\n",
        "  if size[1]['earlength'] > 10:\n",
        "    ear_size.append('Large')\n",
        "  else:\n",
        "    ear_size.append('Small')"
      ],
      "execution_count": 127,
      "outputs": []
    },
    {
      "cell_type": "code",
      "metadata": {
        "id": "14pd6DBzW0pu",
        "colab_type": "code",
        "colab": {}
      },
      "source": [
        "GC_content = []\n",
        "# Listing GC_contents from dataframe\n",
        "for dna in dna_data.iterrows():\n",
        "  GC_base = round(dna[1]['dnaseq'].count('G' or 'C') / len(dna[1]['dnaseq']) *100)\n",
        "  GC_content.append(GC_base)"
      ],
      "execution_count": 128,
      "outputs": []
    },
    {
      "cell_type": "code",
      "metadata": {
        "id": "-rqxwAowWWfz",
        "colab_type": "code",
        "colab": {
          "base_uri": "https://localhost:8080/",
          "height": 359
        },
        "outputId": "c5a9cac9-3b1a-4420-ef23-f1aec197caac"
      },
      "source": [
        "# Create new dataframe\n",
        "classification = {'id': id_list,\n",
        "                  'ear_size': ear_size,\n",
        "                  'GC_content': GC_content}\n",
        "class_data = pd.DataFrame(classification, columns=['id', 'ear_size', 'GC_content'])\n",
        "class_data"
      ],
      "execution_count": 129,
      "outputs": [
        {
          "output_type": "execute_result",
          "data": {
            "text/html": [
              "<div>\n",
              "<style scoped>\n",
              "    .dataframe tbody tr th:only-of-type {\n",
              "        vertical-align: middle;\n",
              "    }\n",
              "\n",
              "    .dataframe tbody tr th {\n",
              "        vertical-align: top;\n",
              "    }\n",
              "\n",
              "    .dataframe thead th {\n",
              "        text-align: right;\n",
              "    }\n",
              "</style>\n",
              "<table border=\"1\" class=\"dataframe\">\n",
              "  <thead>\n",
              "    <tr style=\"text-align: right;\">\n",
              "      <th></th>\n",
              "      <th>id</th>\n",
              "      <th>ear_size</th>\n",
              "      <th>GC_content</th>\n",
              "    </tr>\n",
              "  </thead>\n",
              "  <tbody>\n",
              "    <tr>\n",
              "      <th>0</th>\n",
              "      <td>17A</td>\n",
              "      <td>Small</td>\n",
              "      <td>20</td>\n",
              "    </tr>\n",
              "    <tr>\n",
              "      <th>1</th>\n",
              "      <td>24P</td>\n",
              "      <td>Small</td>\n",
              "      <td>22</td>\n",
              "    </tr>\n",
              "    <tr>\n",
              "      <th>2</th>\n",
              "      <td>09Q</td>\n",
              "      <td>Large</td>\n",
              "      <td>30</td>\n",
              "    </tr>\n",
              "    <tr>\n",
              "      <th>3</th>\n",
              "      <td>65Y</td>\n",
              "      <td>Small</td>\n",
              "      <td>19</td>\n",
              "    </tr>\n",
              "    <tr>\n",
              "      <th>4</th>\n",
              "      <td>19N</td>\n",
              "      <td>Small</td>\n",
              "      <td>17</td>\n",
              "    </tr>\n",
              "    <tr>\n",
              "      <th>5</th>\n",
              "      <td>92K</td>\n",
              "      <td>Large</td>\n",
              "      <td>33</td>\n",
              "    </tr>\n",
              "    <tr>\n",
              "      <th>6</th>\n",
              "      <td>33W</td>\n",
              "      <td>Small</td>\n",
              "      <td>24</td>\n",
              "    </tr>\n",
              "    <tr>\n",
              "      <th>7</th>\n",
              "      <td>98C</td>\n",
              "      <td>Large</td>\n",
              "      <td>32</td>\n",
              "    </tr>\n",
              "    <tr>\n",
              "      <th>8</th>\n",
              "      <td>75G</td>\n",
              "      <td>Small</td>\n",
              "      <td>20</td>\n",
              "    </tr>\n",
              "    <tr>\n",
              "      <th>9</th>\n",
              "      <td>88Q</td>\n",
              "      <td>Large</td>\n",
              "      <td>27</td>\n",
              "    </tr>\n",
              "  </tbody>\n",
              "</table>\n",
              "</div>"
            ],
            "text/plain": [
              "    id ear_size  GC_content\n",
              "0  17A    Small          20\n",
              "1  24P    Small          22\n",
              "2  09Q    Large          30\n",
              "3  65Y    Small          19\n",
              "4  19N    Small          17\n",
              "5  92K    Large          33\n",
              "6  33W    Small          24\n",
              "7  98C    Large          32\n",
              "8  75G    Small          20\n",
              "9  88Q    Large          27"
            ]
          },
          "metadata": {
            "tags": []
          },
          "execution_count": 129
        }
      ]
    },
    {
      "cell_type": "markdown",
      "metadata": {
        "id": "rU-nyXEQrVSJ",
        "colab_type": "text"
      },
      "source": [
        "What is the average GC-content for both large-eared and small-eared subjects?"
      ]
    },
    {
      "cell_type": "code",
      "metadata": {
        "id": "LDzSPIyWtwxK",
        "colab_type": "code",
        "colab": {
          "base_uri": "https://localhost:8080/",
          "height": 51
        },
        "outputId": "20c935e9-c04b-452d-ec79-ccfb3f81ec80"
      },
      "source": [
        "tot_large = 0\n",
        "tot_small = 0\n",
        "GC_large = 0\n",
        "GC_small = 0\n",
        "# Seperate GC-content based on ear size and summing the answers\n",
        "for dna in class_data.iterrows():\n",
        "  if dna[1]['ear_size'] == 'Large':\n",
        "    GC_large += dna[1]['GC_content']\n",
        "    tot_large +=1\n",
        "  else:\n",
        "    GC_small += dna[1]['GC_content']\n",
        "    tot_small +=1\n",
        "\n",
        "print(f'Average GC-content for large-eared subjects is {round(GC_large/tot_large,1)}')\n",
        "print(f'Average GC-content for large-eared subjects is {round(GC_small/tot_small,1)}')"
      ],
      "execution_count": 135,
      "outputs": [
        {
          "output_type": "stream",
          "text": [
            "Average GC-content for large-eared subjects is 30.5\n",
            "Average GC-content for large-eared subjects is 20.3\n"
          ],
          "name": "stdout"
        }
      ]
    },
    {
      "cell_type": "markdown",
      "metadata": {
        "id": "5PxGMW9yxj2A",
        "colab_type": "text"
      },
      "source": [
        "Export the table of individual level GC values to a CSV file"
      ]
    },
    {
      "cell_type": "code",
      "metadata": {
        "id": "s3tk0f--xtmI",
        "colab_type": "code",
        "colab": {}
      },
      "source": [
        "class_data.to_csv('class_data.csv', index=False)"
      ],
      "execution_count": 137,
      "outputs": []
    }
  ]
}