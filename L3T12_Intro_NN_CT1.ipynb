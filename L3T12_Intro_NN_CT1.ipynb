{
  "nbformat": 4,
  "nbformat_minor": 0,
  "metadata": {
    "colab": {
      "name": "L3T12_Intro_NN_CT1.ipynb",
      "provenance": [],
      "collapsed_sections": []
    },
    "kernelspec": {
      "display_name": "Python 3",
      "language": "python",
      "name": "python3"
    },
    "language_info": {
      "codemirror_mode": {
        "name": "ipython",
        "version": 3
      },
      "file_extension": ".py",
      "mimetype": "text/x-python",
      "name": "python",
      "nbconvert_exporter": "python",
      "pygments_lexer": "ipython3",
      "version": "3.7.4"
    }
  },
  "cells": [
    {
      "cell_type": "markdown",
      "metadata": {
        "colab_type": "text",
        "id": "a8YglsAarO23"
      },
      "source": [
        "# The power of neural networks\n",
        "\n",
        "Neurons can be used to model logic gates, the building blocks behind all digital computing. In this compulsory task we talk you through how to do so. We also explain how to represent neural networks in terms of matrix computations."
      ]
    },
    {
      "cell_type": "code",
      "metadata": {
        "colab_type": "code",
        "id": "nyr9_Tu6rO27",
        "colab": {}
      },
      "source": [
        "import numpy as np\n",
        "import matplotlib.pyplot as plt\n",
        "%matplotlib inline"
      ],
      "execution_count": 0,
      "outputs": []
    },
    {
      "cell_type": "markdown",
      "metadata": {
        "colab_type": "text",
        "id": "7-mcTJnprO3I"
      },
      "source": [
        "## Neurons as logic gates\n",
        "\n",
        "A neuron works by applying an activation function, usually the sigmoid function, to a combination of inputs, input weights and a bias. "
      ]
    },
    {
      "cell_type": "code",
      "metadata": {
        "colab_type": "code",
        "id": "Ft6TavXAWSS0",
        "colab": {}
      },
      "source": [
        "class Neuron():\n",
        "  \n",
        "  def __init__(self, W, b):\n",
        "    self.W = W\n",
        "    self.b = b\n",
        "    \n",
        "  def activate(self, X):\n",
        "    return sigmoid(W * X + b)"
      ],
      "execution_count": 0,
      "outputs": []
    },
    {
      "cell_type": "markdown",
      "metadata": {
        "colab_type": "text",
        "id": "H3pcg1o5XVuN"
      },
      "source": [
        "Here's a reminder of what the sigmoid function is and what it's output looks like:\n",
        "\n",
        "$$\n",
        "\\sigma = \\frac{1}{1 + e^{-x}}\n",
        "$$\n"
      ]
    },
    {
      "cell_type": "code",
      "metadata": {
        "colab_type": "code",
        "id": "7WrC8RUprO3L",
        "outputId": "c6f1b304-b007-4732-8f69-ce88b1c37119",
        "colab": {
          "base_uri": "https://localhost:8080/",
          "height": 282
        }
      },
      "source": [
        "def sigmoid(x):\n",
        "    return 1.0 / (1.0 + np.exp(-x))\n",
        "  \n",
        "inputs = np.arange(-100,100, step=0.1)\n",
        "plt.plot(inputs, sigmoid(inputs), linewidth=2)\n",
        "plt.grid(True, which='both')\n",
        "plt.axhline(y=0, color='k')\n",
        "plt.axvline(x=0, color='k')\n",
        "plt.xlim([-10, 10])"
      ],
      "execution_count": 19,
      "outputs": [
        {
          "output_type": "execute_result",
          "data": {
            "text/plain": [
              "(-10, 10)"
            ]
          },
          "metadata": {
            "tags": []
          },
          "execution_count": 19
        },
        {
          "output_type": "display_data",
          "data": {
            "image/png": "[encoded data removed]",
            "text/plain": [
              "<Figure size 432x288 with 1 Axes>"
            ]
          },
          "metadata": {
            "tags": []
          }
        }
      ]
    },
    {
      "cell_type": "markdown",
      "metadata": {
        "colab_type": "text",
        "id": "AqAZ7aCSrO3Z"
      },
      "source": [
        "### Logic gates\n",
        "\n",
        "A logic gate takes in two boolean inputs (0 or 1, i.e. True or False) and returns a single boolean output. An OR gate, for example, returns a 1 if either of the inputs is 1 or both are 1, and 0 only if both inputs are 0. \n"
      ]
    },
    {
      "cell_type": "markdown",
      "metadata": {
        "colab_type": "text",
        "id": "B5fD9G7mX_vr"
      },
      "source": [
        "Can we design a neuron which produces the same outputs as an OR gate? \n",
        "\n",
        "In other words, can we find $w_1$, $w_2$ and $b$, such that $z$ in the following formula\n",
        "\n",
        "$$\n",
        "z = w_1 x_1 + w_2 x_2 + b\n",
        "$$\n",
        "\n",
        "corresponds to the outputs in the following OR gate truth table\n",
        "\n",
        "<table>\n",
        "\n",
        "<tr>\n",
        "<th colspan=\"3\">OR gate truth table</th>\n",
        "</tr>\n",
        "\n",
        "<tr>\n",
        "<th colspan=\"2\">Input</th>\n",
        "<th>Output</th>\n",
        "</tr>\n",
        "\n",
        "<tr>\n",
        "<td>0</td>\n",
        "<td>0</td>\n",
        "<td>0</td>\n",
        "</tr>\n",
        "\n",
        "<tr>\n",
        "<td>0</td>\n",
        "<td>1</td>\n",
        "<td>1</td>\n",
        "</tr>\n",
        "\n",
        "<tr>\n",
        "<td>1</td>\n",
        "<td>0</td>\n",
        "<td>1</td>\n",
        "</tr>\n",
        "\n",
        "<tr>\n",
        "<td>1</td>\n",
        "<td>1</td>\n",
        "<td>1</td>\n",
        "</tr>\n",
        "\n",
        "</table>"
      ]
    },
    {
      "cell_type": "markdown",
      "metadata": {
        "colab_type": "text",
        "id": "jtJTGjH-Y7_9"
      },
      "source": [
        "It turns out that we can.\n",
        "To make it easier to understand how, let's tease apart the weights and inputs of our neuron class to allow 2 inputs and 2 weights."
      ]
    },
    {
      "cell_type": "code",
      "metadata": {
        "colab_type": "code",
        "id": "6cCOeexuXejJ",
        "colab": {}
      },
      "source": [
        "class Neuron():\n",
        "  \n",
        "  def __init__(self, w1, w2, b):\n",
        "    self.w1 = w1\n",
        "    self.w2 = w2\n",
        "    self.b = b\n",
        "    \n",
        "  def activate(self, x1, x2):\n",
        "    return sigmoid(self.w1 * x1 + self.w2 * x2 + self.b)\n",
        " \n",
        "logic_inputs = [(0, 0), (0, 1), (1, 0), (1, 1)]"
      ],
      "execution_count": 0,
      "outputs": []
    },
    {
      "cell_type": "markdown",
      "metadata": {
        "colab_type": "text",
        "id": "eF1cFmmWXts2"
      },
      "source": [
        "#### Bias\n",
        "\n",
        "The bias determines the value of $z$ if both inputs are 0.\n",
        "If both inputs are 0 we want the output to also be 0. So we must solve:\n",
        "\n",
        "$$\n",
        "0 =\\sigma(0 + 0 + b)\n",
        "$$\n",
        "\n",
        "\n",
        "The sigmoid function outputs values close to 0 if the input is about -7.5 or less, so $b$ must be at least that small. Let's specify $b$ to be -10."
      ]
    },
    {
      "cell_type": "code",
      "metadata": {
        "colab_type": "code",
        "id": "rxD_KxHgZo3-",
        "colab": {}
      },
      "source": [
        "b = -10"
      ],
      "execution_count": 0,
      "outputs": []
    },
    {
      "cell_type": "markdown",
      "metadata": {
        "colab_type": "text",
        "id": "SyWWypZSZsYt"
      },
      "source": [
        "#### Weights\n",
        "\n",
        "The weights determine what happens when $x_1$ and/or $x_2$ are 1.\n",
        "In all the cases the output should be 1.\n",
        "\n",
        "The sigmoid function outputs about 1 for values larger than about 7.5, let's say 10. For either $w_1 + 0 + -10$ or $0 + w_1 + -10$ to be 10 or more, the weights must be at least 20. \n",
        "\n",
        "This also gives the correct output if both inputs are 1. "
      ]
    },
    {
      "cell_type": "code",
      "metadata": {
        "colab_type": "code",
        "id": "YX-JkugzbAek",
        "colab": {}
      },
      "source": [
        "w1, w2 = 20, 20"
      ],
      "execution_count": 0,
      "outputs": []
    },
    {
      "cell_type": "markdown",
      "metadata": {
        "colab_type": "text",
        "id": "o1nC-I1WbEhk"
      },
      "source": [
        "Let's try it out."
      ]
    },
    {
      "cell_type": "code",
      "metadata": {
        "colab_type": "code",
        "id": "RWcOD1CFbFZB",
        "colab": {
          "base_uri": "https://localhost:8080/",
          "height": 85
        },
        "outputId": "65a6cdcd-b8da-4a6f-9971-8bc4a65a6347"
      },
      "source": [
        "def make_truth_table(gate):\n",
        "  for x1, x2 in logic_inputs:\n",
        "    output = gate.activate(x1, x2)\n",
        "    print(\"{}, {}: {}\".format(x1, x2, np.round(output)))\n",
        "\n",
        "or_gate = Neuron(w1, w1, b)\n",
        "make_truth_table(or_gate)"
      ],
      "execution_count": 23,
      "outputs": [
        {
          "output_type": "stream",
          "text": [
            "0, 0: 0.0\n",
            "0, 1: 1.0\n",
            "1, 0: 1.0\n",
            "1, 1: 1.0\n"
          ],
          "name": "stdout"
        }
      ]
    },
    {
      "cell_type": "markdown",
      "metadata": {
        "colab_type": "text",
        "id": "ESl-j78arO3j"
      },
      "source": [
        "### Exercise\n",
        "Try to figure out what values for the neurons would model an AND gate."
      ]
    },
    {
      "cell_type": "markdown",
      "metadata": {
        "colab_type": "text",
        "id": "yKxZSnAQrO3i"
      },
      "source": [
        "<table>\n",
        "\n",
        "<tr>\n",
        "<th colspan=\"3\">AND gate truth table</th>\n",
        "</tr>\n",
        "\n",
        "<tr>\n",
        "<th colspan=\"2\">Input</th>\n",
        "<th>Output</th>\n",
        "</tr>\n",
        "\n",
        "<tr>\n",
        "<td>0</td>\n",
        "<td>0</td>\n",
        "<td>0</td>\n",
        "</tr>\n",
        "\n",
        "<tr>\n",
        "<td>0</td>\n",
        "<td>1</td>\n",
        "<td>0</td>\n",
        "</tr>\n",
        "\n",
        "<tr>\n",
        "<td>1</td>\n",
        "<td>0</td>\n",
        "<td>0</td>\n",
        "</tr>\n",
        "\n",
        "<tr>\n",
        "<td>1</td>\n",
        "<td>1</td>\n",
        "<td>1</td>\n",
        "</tr>\n",
        "\n",
        "</table>"
      ]
    },
    {
      "cell_type": "code",
      "metadata": {
        "colab_type": "code",
        "id": "vgyObUnPrO3l",
        "colab": {
          "base_uri": "https://localhost:8080/",
          "height": 85
        },
        "outputId": "86df6a48-27f2-484e-8431-85c7a40f46a0"
      },
      "source": [
        "# Fix this AND gate so its outputs are correct.\n",
        "\n",
        "and_gate = Neuron(w1=10, w2=10, b=-10)\n",
        "\n",
        "make_truth_table(and_gate)"
      ],
      "execution_count": 24,
      "outputs": [
        {
          "output_type": "stream",
          "text": [
            "0, 0: 0.0\n",
            "0, 1: 0.0\n",
            "1, 0: 0.0\n",
            "1, 1: 1.0\n"
          ],
          "name": "stdout"
        }
      ]
    },
    {
      "cell_type": "markdown",
      "metadata": {
        "colab_type": "text",
        "id": "6TSxHQhOrO3o"
      },
      "source": [
        "### Exercise\n",
        "Do the same for the NOR gate and the NAND gate."
      ]
    },
    {
      "cell_type": "markdown",
      "metadata": {
        "colab_type": "text",
        "id": "j25DAnwvrO3p"
      },
      "source": [
        "<table>\n",
        "\n",
        "<tr>\n",
        "<th colspan=\"3\">NOR gate truth table</th>\n",
        "</tr>\n",
        "\n",
        "<tr>\n",
        "<th colspan=\"2\">Input</th>\n",
        "<th>Output</th>\n",
        "</tr>\n",
        "\n",
        "<tr>\n",
        "<td>0</td>\n",
        "<td>0</td>\n",
        "<td>1</td>\n",
        "</tr>\n",
        "\n",
        "<tr>\n",
        "<td>0</td>\n",
        "<td>1</td>\n",
        "<td>0</td>\n",
        "</tr>\n",
        "\n",
        "<tr>\n",
        "<td>1</td>\n",
        "<td>0</td>\n",
        "<td>0</td>\n",
        "</tr>\n",
        "\n",
        "<tr>\n",
        "<td>1</td>\n",
        "<td>1</td>\n",
        "<td>0</td>\n",
        "</tr>\n",
        "\n",
        "</table>"
      ]
    },
    {
      "cell_type": "code",
      "metadata": {
        "colab_type": "code",
        "id": "z4mjHXntrO3p",
        "colab": {
          "base_uri": "https://localhost:8080/",
          "height": 85
        },
        "outputId": "b24ce3a1-742b-42e9-b349-d3b8b583e8a3"
      },
      "source": [
        "nor_gate = Neuron(w1=-10, w2=-10, b=10)\n",
        "\n",
        "make_truth_table(nor_gate)"
      ],
      "execution_count": 25,
      "outputs": [
        {
          "output_type": "stream",
          "text": [
            "0, 0: 1.0\n",
            "0, 1: 0.0\n",
            "1, 0: 0.0\n",
            "1, 1: 0.0\n"
          ],
          "name": "stdout"
        }
      ]
    },
    {
      "cell_type": "markdown",
      "metadata": {
        "colab_type": "text",
        "id": "1IZ11iB5rO3r"
      },
      "source": [
        "<table>\n",
        "\n",
        "<tr>\n",
        "<th colspan=\"3\">NAND gate truth table</th>\n",
        "</tr>\n",
        "\n",
        "<tr>\n",
        "<th colspan=\"2\">Input</th>\n",
        "<th>Output</th>\n",
        "</tr>\n",
        "\n",
        "<tr>\n",
        "<td>0</td>\n",
        "<td>0</td>\n",
        "<td>1</td>\n",
        "</tr>\n",
        "\n",
        "<tr>\n",
        "<td>0</td>\n",
        "<td>1</td>\n",
        "<td>1</td>\n",
        "</tr>\n",
        "\n",
        "<tr>\n",
        "<td>1</td>\n",
        "<td>0</td>\n",
        "<td>1</td>\n",
        "</tr>\n",
        "\n",
        "<tr>\n",
        "<td>1</td>\n",
        "<td>1</td>\n",
        "<td>0</td>\n",
        "</tr>\n",
        "\n",
        "</table>"
      ]
    },
    {
      "cell_type": "code",
      "metadata": {
        "colab_type": "code",
        "id": "iAeI8G44rO3s",
        "colab": {
          "base_uri": "https://localhost:8080/",
          "height": 85
        },
        "outputId": "29a8e7d7-2821-4138-86de-db36223b461d"
      },
      "source": [
        "nand_gate = Neuron(w1=-5, w2=-5, b=10)\n",
        "\n",
        "make_truth_table(nand_gate)"
      ],
      "execution_count": 26,
      "outputs": [
        {
          "output_type": "stream",
          "text": [
            "0, 0: 1.0\n",
            "0, 1: 1.0\n",
            "1, 0: 1.0\n",
            "1, 1: 0.0\n"
          ],
          "name": "stdout"
        }
      ]
    },
    {
      "cell_type": "markdown",
      "metadata": {
        "colab_type": "text",
        "id": "XwaXX4DmrO3w"
      },
      "source": [
        "### The XOR Gate\n",
        "\n",
        "Of all logic gates the most important in computer science is the exclusive or or XOR gate. \n",
        "\n",
        "It turns out there is no configuration for our neuron that will replicate the XOR gate truth table. \n",
        "\n",
        "However, the XOR can be modeled by combining three of the gates we just made.  In other words,\n",
        "by combining several neurons into a network.\n",
        "\n",
        "See if you can find the combination of gates that produces this table:\n",
        "\n",
        "<table>\n",
        "\n",
        "<tr>\n",
        "<th colspan=\"3\">XOR gate truth table</th>\n",
        "</tr>\n",
        "\n",
        "<tr>\n",
        "<th colspan=\"2\">Input</th>\n",
        "<th>Output</th>\n",
        "</tr>\n",
        "\n",
        "<tr>\n",
        "<td>0</td>\n",
        "<td>0</td>\n",
        "<td>0</td>\n",
        "</tr>\n",
        "\n",
        "<tr>\n",
        "<td>0</td>\n",
        "<td>1</td>\n",
        "<td>1</td>\n",
        "</tr>\n",
        "\n",
        "<tr>\n",
        "<td>1</td>\n",
        "<td>0</td>\n",
        "<td>1</td>\n",
        "</tr>\n",
        "\n",
        "<tr>\n",
        "<td>1</td>\n",
        "<td>1</td>\n",
        "<td>0</td>\n",
        "</tr>\n",
        "\n",
        "</table>\n",
        "\n"
      ]
    },
    {
      "cell_type": "markdown",
      "metadata": {
        "colab_type": "text",
        "id": "9q25E1v_ewLs"
      },
      "source": [
        "\n",
        "### Exercise\n",
        "\n",
        "Try to combine the gates we discussed. It's already if you do so by trial and error. To help you out, the code below specifies that our combination\n",
        "first passes the inputs to two separate hidden gates or hidden neurons, and then passes the outcome of that to a single output neuron"
      ]
    },
    {
      "cell_type": "code",
      "metadata": {
        "colab_type": "code",
        "id": "Oe8f8HV1rO3x",
        "outputId": "5ef6d691-a7bb-40a6-da4a-2e04c7abb3b7",
        "colab": {
          "base_uri": "https://localhost:8080/",
          "height": 85
        }
      },
      "source": [
        "# Uncomment the xor_gate line and find out which neurons besides the or_gate neuron the \n",
        "# network should have in its hidden and output layer to produce the right values.\n",
        "\n",
        "class Network():\n",
        "  \n",
        "  def __init__(self, gate1, gate2, out_gate):\n",
        "    self.hidden_neuron1 = gate1\n",
        "    self.hidden_neuron2 = gate2\n",
        "    self.out_neuron = out_gate\n",
        "   \n",
        "  def activate(self, x1, x2):\n",
        "    z1 = self.hidden_neuron1.activate(x1, x2)\n",
        "    z2 = self.hidden_neuron2.activate(x1, x2)\n",
        "    return self.out_neuron.activate(z1, z2)\n",
        "  \n",
        "xor_gate = Network(or_gate, and_gate, and_gate)\n",
        "make_truth_table(xor_gate)"
      ],
      "execution_count": 27,
      "outputs": [
        {
          "output_type": "stream",
          "text": [
            "0, 0: 0.0\n",
            "0, 1: 1.0\n",
            "1, 0: 1.0\n",
            "1, 1: 1.0\n"
          ],
          "name": "stdout"
        }
      ]
    },
    {
      "cell_type": "markdown",
      "metadata": {
        "colab_type": "text",
        "id": "Hg2jOJBArO30"
      },
      "source": [
        "## Matrix Computations\n",
        "\n",
        "The code for a single neuron is fairly simple. When we combine neurons, however, the input is passed through multiple neurons in a hidden layer, which can be very large. The output of the hidden layer is itself either passed to more layers or an output layer of variable size. This can involve absolutely huge computations which are hard to understand and code efficiently.\n",
        "\n",
        "To understand these computations and work with neural network libraries, you must refresh your linear algebra and be able to think of networks in terms of matrix calculations. We'll warm you up with this gentle exercise.\n",
        "\n"
      ]
    },
    {
      "cell_type": "markdown",
      "metadata": {
        "colab_type": "text",
        "id": "6SELDEWQkcrq"
      },
      "source": [
        "### Input\n",
        "\n",
        "Instead of writing the input as seperate variables, we store each input as a vector and all inputs as a matrix."
      ]
    },
    {
      "cell_type": "code",
      "metadata": {
        "colab_type": "code",
        "id": "h35ap3pRrO36",
        "outputId": "66ab5ce3-3573-4461-e7d6-89f56a36fdd1",
        "colab": {
          "base_uri": "https://localhost:8080/",
          "height": 85
        }
      },
      "source": [
        "logic_inputs = np.array(logic_inputs)\n",
        "logic_inputs"
      ],
      "execution_count": 28,
      "outputs": [
        {
          "output_type": "execute_result",
          "data": {
            "text/plain": [
              "array([[0, 0],\n",
              "       [0, 1],\n",
              "       [1, 0],\n",
              "       [1, 1]])"
            ]
          },
          "metadata": {
            "tags": []
          },
          "execution_count": 28
        }
      ]
    },
    {
      "cell_type": "markdown",
      "metadata": {
        "colab_type": "text",
        "id": "FpCii3ddk_nA"
      },
      "source": [
        "### Weights\n",
        "\n",
        "We do the same with weights.\n",
        "There are as many weight matrices as there are layers. \n",
        "Each cell $W_{i,j}$ in the matrix, where $i$ is the ith row and $j$ is the jth column, gives the weight from neuron $i$ in the previous (left) layer to neuron $j$ in the next (right) layer. In W, \n",
        "  \n",
        "\n"
      ]
    },
    {
      "cell_type": "code",
      "metadata": {
        "colab_type": "code",
        "id": "WIV6j3talC9y",
        "outputId": "cca58238-2088-4c26-ca9d-ec98c74bc9d0",
        "colab": {
          "base_uri": "https://localhost:8080/",
          "height": 51
        }
      },
      "source": [
        "# weights of the hidden layer of an OR gate \n",
        "W = np.array([[20], \n",
        "              [20]])\n",
        "W"
      ],
      "execution_count": 29,
      "outputs": [
        {
          "output_type": "execute_result",
          "data": {
            "text/plain": [
              "array([[20],\n",
              "       [20]])"
            ]
          },
          "metadata": {
            "tags": []
          },
          "execution_count": 29
        }
      ]
    },
    {
      "cell_type": "markdown",
      "metadata": {
        "colab_type": "text",
        "id": "C3AivjeisnPe"
      },
      "source": [
        "Instead of focusing on individual neurons, we focus on layers. \n",
        "We specify what size the input vectors ($m$) for the layer has, how many neurons ($n$) the layer has, and the bias for the layer. \n",
        "Instead of multipying each input with each neuron, we use np.dot to multiply the matrixes."
      ]
    },
    {
      "cell_type": "code",
      "metadata": {
        "colab_type": "code",
        "id": "xwmV63_msY2X",
        "outputId": "63b37b8e-1769-4816-eab2-df93136beb87",
        "colab": {
          "base_uri": "https://localhost:8080/",
          "height": 85
        }
      },
      "source": [
        "class Layer():\n",
        "  \n",
        "  def __init__(self, W, b):\n",
        "    self.m = W.shape[0]\n",
        "    self.n = W.shape[1]\n",
        "    self.W = W\n",
        "    self.b = b\n",
        "    \n",
        "  def activate(self, X):\n",
        "    z = np.dot(X, self.W) + self.b\n",
        "    return sigmoid(z)\n",
        "\n",
        "OR_layer = Layer(W, -10)\n",
        "or_output = OR_layer.activate(logic_inputs)\n",
        "np.round(or_output)"
      ],
      "execution_count": 30,
      "outputs": [
        {
          "output_type": "execute_result",
          "data": {
            "text/plain": [
              "array([[0.],\n",
              "       [1.],\n",
              "       [1.],\n",
              "       [1.]])"
            ]
          },
          "metadata": {
            "tags": []
          },
          "execution_count": 30
        }
      ]
    },
    {
      "cell_type": "markdown",
      "metadata": {
        "colab_type": "text",
        "id": "LOV8eQhKwgCB"
      },
      "source": [
        "### Exercise\n",
        "\n",
        "Finish this version of an XOR gate that more closely resembles a neural network by determining the shapes the weights and biases need to have. "
      ]
    },
    {
      "cell_type": "code",
      "metadata": {
        "colab_type": "code",
        "id": "SfuZR6OCwo2l",
        "colab": {}
      },
      "source": [
        "W1 = np.array([[2,-1,2,3],[-1,1,-2,1],[3,-1,-1,3]])\n",
        "b1 = np.array([3,1,-2,1])\n",
        "\n",
        "W2 = np.array([[1,1,-1,1],[-2,1,1,-4],[-1,-3,2,-2],[3,1,2,1]])\n",
        "b2 = np.array([2,-1,1,4])\n",
        "\n",
        "hidden_layer = Layer(W1, b1)\n",
        "output_layer = Layer(W2, b2)"
      ],
      "execution_count": 0,
      "outputs": []
    },
    {
      "cell_type": "code",
      "metadata": {
        "colab_type": "code",
        "id": "rAs9CrJ7xG9_",
        "outputId": "87fc10df-0051-4146-cd86-177a7c0f4ce6",
        "colab": {
          "base_uri": "https://localhost:8080/",
          "height": 214
        }
      },
      "source": [
        "class Network():\n",
        "  \n",
        "  def __init__(self, hidden, output):\n",
        "    self.hidden = hidden\n",
        "    self.output = output\n",
        "   \n",
        "  def activate(self, X):\n",
        "    z = self.hidden.activate(X)\n",
        "    return self.output.activate(z)\n",
        "\n",
        "xor_gate = Network(hidden_layer, output_layer)\n",
        "\n",
        "xor_output = xor_gate.activate(X)\n",
        "np.round(xor_output)"
      ],
      "execution_count": 34,
      "outputs": [
        {
          "output_type": "error",
          "ename": "NameError",
          "evalue": "ignored",
          "traceback": [
            "\u001b[0;31m---------------------------------------------------------------------------\u001b[0m",
            "\u001b[0;31mNameError\u001b[0m                                 Traceback (most recent call last)",
            "\u001b[0;32m<ipython-input-34-b2f3395d34ab>\u001b[0m in \u001b[0;36m<module>\u001b[0;34m()\u001b[0m\n\u001b[1;32m     11\u001b[0m \u001b[0mxor_gate\u001b[0m \u001b[0;34m=\u001b[0m \u001b[0mNetwork\u001b[0m\u001b[0;34m(\u001b[0m\u001b[0mhidden_layer\u001b[0m\u001b[0;34m,\u001b[0m \u001b[0moutput_layer\u001b[0m\u001b[0;34m)\u001b[0m\u001b[0;34m\u001b[0m\u001b[0;34m\u001b[0m\u001b[0m\n\u001b[1;32m     12\u001b[0m \u001b[0;34m\u001b[0m\u001b[0m\n\u001b[0;32m---> 13\u001b[0;31m \u001b[0mxor_output\u001b[0m \u001b[0;34m=\u001b[0m \u001b[0mxor_gate\u001b[0m\u001b[0;34m.\u001b[0m\u001b[0mactivate\u001b[0m\u001b[0;34m(\u001b[0m\u001b[0mX\u001b[0m\u001b[0;34m)\u001b[0m\u001b[0;34m\u001b[0m\u001b[0;34m\u001b[0m\u001b[0m\n\u001b[0m\u001b[1;32m     14\u001b[0m \u001b[0mnp\u001b[0m\u001b[0;34m.\u001b[0m\u001b[0mround\u001b[0m\u001b[0;34m(\u001b[0m\u001b[0mxor_output\u001b[0m\u001b[0;34m)\u001b[0m\u001b[0;34m\u001b[0m\u001b[0;34m\u001b[0m\u001b[0m\n",
            "\u001b[0;31mNameError\u001b[0m: name 'X' is not defined"
          ]
        }
      ]
    }
  ]
}