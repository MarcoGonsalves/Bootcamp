{
  "nbformat": 4,
  "nbformat_minor": 0,
  "metadata": {
    "colab": {
      "name": "Simple Cleaning of Property Data.ipynb",
      "provenance": [],
      "collapsed_sections": [],
      "authorship_tag": "ABX9TyNkYhOXuPdiYait4RdEPpUo",
      "include_colab_link": true
    },
    "kernelspec": {
      "name": "python3",
      "display_name": "Python 3"
    }
  },
  "cells": [
    {
      "cell_type": "markdown",
      "metadata": {
        "id": "view-in-github",
        "colab_type": "text"
      },
      "source": [
        "<a href=\"https://colab.research.google.com/github/MarcoGonsalves/Python-Beginners-Collection/blob/master/Simple_Cleaning_of_Property_Data.ipynb\" target=\"_parent\"><img src=\"https://colab.research.google.com/assets/colab-badge.svg\" alt=\"Open In Colab\"/></a>"
      ]
    },
    {
      "cell_type": "code",
      "metadata": {
        "id": "SreDHjMC9KE2",
        "colab_type": "code",
        "colab": {}
      },
      "source": [
        "# Import Libraries\n",
        "import pandas as pd\n",
        "import numpy as np"
      ],
      "execution_count": 42,
      "outputs": []
    },
    {
      "cell_type": "markdown",
      "metadata": {
        "id": "w3efB26zyFaz",
        "colab_type": "text"
      },
      "source": [
        "#Cleaning Property Data"
      ]
    },
    {
      "cell_type": "code",
      "metadata": {
        "id": "gIg1f6y_XByR",
        "colab_type": "code",
        "colab": {
          "base_uri": "https://localhost:8080/",
          "height": 187
        },
        "outputId": "b2789a8a-94fb-4d57-f2e8-80a8590f06ef"
      },
      "source": [
        "# Read data file, print columns and head\n",
        "property_data = pd.read_csv('property data.csv')\n",
        "print(property_data.columns)\n",
        "print(f'\\n {property_data.head()}')"
      ],
      "execution_count": 43,
      "outputs": [
        {
          "output_type": "stream",
          "text": [
            "Index(['PID', 'ST_NUM', 'ST_NAME', 'OWN_OCCUPIED', 'NUM_BEDROOMS', 'NUM_BATH',\n",
            "       'SQ_FT'],\n",
            "      dtype='object')\n",
            "\n",
            "            PID  ST_NUM    ST_NAME OWN_OCCUPIED NUM_BEDROOMS NUM_BATH SQ_FT\n",
            "0  100001000.0   104.0     PUTNAM            Y            3        1  1000\n",
            "1  100002000.0   197.0  LEXINGTON            N            3      1.5    --\n",
            "2  100003000.0     NaN  LEXINGTON            N          NaN        1   850\n",
            "3  100004000.0   201.0   BERKELEY           12            1      NaN   700\n",
            "4          NaN   203.0   BERKELEY            Y            3        2  1600\n"
          ],
          "name": "stdout"
        }
      ]
    },
    {
      "cell_type": "code",
      "metadata": {
        "id": "-eZvMN-IYTQH",
        "colab_type": "code",
        "colab": {
          "base_uri": "https://localhost:8080/",
          "height": 357
        },
        "outputId": "3469ebaa-e844-46c9-d1d3-32e715ffebfd"
      },
      "source": [
        "# View 'ST_NUM' column with null values\n",
        "print(property_data['ST_NUM'])\n",
        "print(property_data['ST_NUM'].isnull())"
      ],
      "execution_count": 44,
      "outputs": [
        {
          "output_type": "stream",
          "text": [
            "0    104.0\n",
            "1    197.0\n",
            "2      NaN\n",
            "3    201.0\n",
            "4    203.0\n",
            "5    207.0\n",
            "6      NaN\n",
            "7    213.0\n",
            "8    215.0\n",
            "Name: ST_NUM, dtype: float64\n",
            "0    False\n",
            "1    False\n",
            "2     True\n",
            "3    False\n",
            "4    False\n",
            "5    False\n",
            "6     True\n",
            "7    False\n",
            "8    False\n",
            "Name: ST_NUM, dtype: bool\n"
          ],
          "name": "stdout"
        }
      ]
    },
    {
      "cell_type": "markdown",
      "metadata": {
        "id": "gfca1Fv2fGyr",
        "colab_type": "text"
      },
      "source": [
        "Pandas recognises 'null' or blank and 'NA' as missing values"
      ]
    },
    {
      "cell_type": "code",
      "metadata": {
        "id": "rSXrBl_sZdx9",
        "colab_type": "code",
        "colab": {
          "base_uri": "https://localhost:8080/",
          "height": 357
        },
        "outputId": "200a9ea1-e2d5-482c-9c96-60ab2a3f90f5"
      },
      "source": [
        "# View 'ST_NUM' column with null values in various forms\n",
        "print(property_data['NUM_BEDROOMS'])\n",
        "print(property_data['NUM_BEDROOMS'].isnull())"
      ],
      "execution_count": 45,
      "outputs": [
        {
          "output_type": "stream",
          "text": [
            "0      3\n",
            "1      3\n",
            "2    NaN\n",
            "3      1\n",
            "4      3\n",
            "5    NaN\n",
            "6      2\n",
            "7      1\n",
            "8     na\n",
            "Name: NUM_BEDROOMS, dtype: object\n",
            "0    False\n",
            "1    False\n",
            "2     True\n",
            "3    False\n",
            "4    False\n",
            "5     True\n",
            "6    False\n",
            "7    False\n",
            "8    False\n",
            "Name: NUM_BEDROOMS, dtype: bool\n"
          ],
          "name": "stdout"
        }
      ]
    },
    {
      "cell_type": "markdown",
      "metadata": {
        "id": "GQUC4k8afoOC",
        "colab_type": "text"
      },
      "source": [
        "Pandas recognises 'n/a' as missing but not 'na'. Give pandas a list of possible missing values to correctly identify them as null"
      ]
    },
    {
      "cell_type": "code",
      "metadata": {
        "id": "PVn521UsgD0p",
        "colab_type": "code",
        "colab": {
          "base_uri": "https://localhost:8080/",
          "height": 187
        },
        "outputId": "31efdaa7-e9f3-4f2d-85a0-39d2d385aeb2"
      },
      "source": [
        "# Give pandas a list of values to be read as null\n",
        "missing_values = ['na', '-', '--']\n",
        "property_data = pd.read_csv('property data.csv', na_values = missing_values)\n",
        "\n",
        "print(property_data['NUM_BEDROOMS'])"
      ],
      "execution_count": 46,
      "outputs": [
        {
          "output_type": "stream",
          "text": [
            "0    3.0\n",
            "1    3.0\n",
            "2    NaN\n",
            "3    1.0\n",
            "4    3.0\n",
            "5    NaN\n",
            "6    2.0\n",
            "7    1.0\n",
            "8    NaN\n",
            "Name: NUM_BEDROOMS, dtype: float64\n"
          ],
          "name": "stdout"
        }
      ]
    },
    {
      "cell_type": "markdown",
      "metadata": {
        "id": "rOl6drhdhNAV",
        "colab_type": "text"
      },
      "source": [
        "Pandas can correctly identify the missing values and as more of these values are discovered they will be added to the missing_values list"
      ]
    },
    {
      "cell_type": "code",
      "metadata": {
        "id": "EDcOCb0VhL62",
        "colab_type": "code",
        "colab": {
          "base_uri": "https://localhost:8080/",
          "height": 357
        },
        "outputId": "02b0c4fd-694e-426f-ab18-823a6d28a65f"
      },
      "source": [
        "# View 'OWN_OCCUPIED' and its null values\n",
        "print(property_data['OWN_OCCUPIED'])\n",
        "print(property_data['OWN_OCCUPIED'].isnull())"
      ],
      "execution_count": 47,
      "outputs": [
        {
          "output_type": "stream",
          "text": [
            "0      Y\n",
            "1      N\n",
            "2      N\n",
            "3     12\n",
            "4      Y\n",
            "5      Y\n",
            "6    NaN\n",
            "7      Y\n",
            "8      Y\n",
            "Name: OWN_OCCUPIED, dtype: object\n",
            "0    False\n",
            "1    False\n",
            "2    False\n",
            "3    False\n",
            "4    False\n",
            "5    False\n",
            "6     True\n",
            "7    False\n",
            "8    False\n",
            "Name: OWN_OCCUPIED, dtype: bool\n"
          ],
          "name": "stdout"
        }
      ]
    },
    {
      "cell_type": "markdown",
      "metadata": {
        "id": "-oPOlETbhtaP",
        "colab_type": "text"
      },
      "source": [
        "The int value should be null, but pandas does not recognise it as such"
      ]
    },
    {
      "cell_type": "code",
      "metadata": {
        "id": "zzT0k-pfh3ha",
        "colab_type": "code",
        "colab": {}
      },
      "source": [
        "# loop through 'OWN_OCCUPIED' to detect integers by trying to convert value type, if it converts to integer replace the value with 'nan'\n",
        "count = 0\n",
        "for row in property_data['OWN_OCCUPIED']:\n",
        "  try:\n",
        "    int(row)\n",
        "    property_data.loc[count, 'OWN_OCCUPIED']=np.nan\n",
        "  except ValueError:\n",
        "    pass\n",
        "  count +=1"
      ],
      "execution_count": 48,
      "outputs": []
    },
    {
      "cell_type": "markdown",
      "metadata": {
        "id": "s_wiTqYXkCkz",
        "colab_type": "text"
      },
      "source": [
        "Detect integers and convert to null\n",
        "\n"
      ]
    },
    {
      "cell_type": "code",
      "metadata": {
        "id": "PQaGGCRMjBNc",
        "colab_type": "code",
        "colab": {
          "base_uri": "https://localhost:8080/",
          "height": 187
        },
        "outputId": "18770b7e-7a95-4ea5-b189-e55a03f9e300"
      },
      "source": [
        "# View changes made\n",
        "print(property_data['OWN_OCCUPIED'])"
      ],
      "execution_count": 49,
      "outputs": [
        {
          "output_type": "stream",
          "text": [
            "0      Y\n",
            "1      N\n",
            "2      N\n",
            "3    NaN\n",
            "4      Y\n",
            "5      Y\n",
            "6    NaN\n",
            "7      Y\n",
            "8      Y\n",
            "Name: OWN_OCCUPIED, dtype: object\n"
          ],
          "name": "stdout"
        }
      ]
    },
    {
      "cell_type": "code",
      "metadata": {
        "id": "RBtwhv0skNi7",
        "colab_type": "code",
        "colab": {
          "base_uri": "https://localhost:8080/",
          "height": 204
        },
        "outputId": "f96c1d0b-b790-4fff-ed31-45961e7cca4d"
      },
      "source": [
        "# Evaluate sum of all missing values in dataset and summarise\n",
        "print(f'Missing values by column: \\n{property_data.isnull().sum()}\\n')\n",
        "\n",
        "print(f'Missing values in dataset: {property_data.isnull().sum().sum()}')"
      ],
      "execution_count": 50,
      "outputs": [
        {
          "output_type": "stream",
          "text": [
            "Missing values by column: \n",
            "PID             1\n",
            "ST_NUM          2\n",
            "ST_NAME         0\n",
            "OWN_OCCUPIED    2\n",
            "NUM_BEDROOMS    3\n",
            "NUM_BATH        1\n",
            "SQ_FT           2\n",
            "dtype: int64\n",
            "\n",
            "Missing values in dataset: 11\n"
          ],
          "name": "stdout"
        }
      ]
    },
    {
      "cell_type": "code",
      "metadata": {
        "id": "3eJP8wlPt_9M",
        "colab_type": "code",
        "colab": {
          "base_uri": "https://localhost:8080/",
          "height": 187
        },
        "outputId": "e6356c82-9838-4d40-e52d-c55a6eb5d6d8"
      },
      "source": [
        "# View anoter column with strings in a column we expect to see float values\n",
        "print(property_data['NUM_BATH'])"
      ],
      "execution_count": 51,
      "outputs": [
        {
          "output_type": "stream",
          "text": [
            "0         1\n",
            "1       1.5\n",
            "2         1\n",
            "3       NaN\n",
            "4         2\n",
            "5         1\n",
            "6    HURLEY\n",
            "7         1\n",
            "8         2\n",
            "Name: NUM_BATH, dtype: object\n"
          ],
          "name": "stdout"
        }
      ]
    },
    {
      "cell_type": "code",
      "metadata": {
        "id": "LCupxmg2urW4",
        "colab_type": "code",
        "colab": {}
      },
      "source": [
        "# Convert values to float, where an error occurs convert to null\n",
        "count=0\n",
        "for row in property_data['NUM_BATH']:\n",
        "  try:\n",
        "    float(row)\n",
        "    pass\n",
        "  except ValueError:\n",
        "    property_data.loc[count, 'NUM_BATH']=np.nan\n",
        "  count +=1"
      ],
      "execution_count": 52,
      "outputs": []
    },
    {
      "cell_type": "code",
      "metadata": {
        "id": "jzXp-MEOx2JI",
        "colab_type": "code",
        "colab": {
          "base_uri": "https://localhost:8080/",
          "height": 187
        },
        "outputId": "2774882b-3bf5-43ec-8c08-ec342e399fea"
      },
      "source": [
        "# View cleaned data\n",
        "print(property_data)"
      ],
      "execution_count": 53,
      "outputs": [
        {
          "output_type": "stream",
          "text": [
            "           PID  ST_NUM     ST_NAME OWN_OCCUPIED  NUM_BEDROOMS NUM_BATH   SQ_FT\n",
            "0  100001000.0   104.0      PUTNAM            Y           3.0        1  1000.0\n",
            "1  100002000.0   197.0   LEXINGTON            N           3.0      1.5     NaN\n",
            "2  100003000.0     NaN   LEXINGTON            N           NaN        1   850.0\n",
            "3  100004000.0   201.0    BERKELEY          NaN           1.0      NaN   700.0\n",
            "4          NaN   203.0    BERKELEY            Y           3.0        2  1600.0\n",
            "5  100006000.0   207.0    BERKELEY            Y           NaN        1   800.0\n",
            "6  100007000.0     NaN  WASHINGTON          NaN           2.0      NaN   950.0\n",
            "7  100008000.0   213.0     TREMONT            Y           1.0        1     NaN\n",
            "8  100009000.0   215.0     TREMONT            Y           NaN        2  1800.0\n"
          ],
          "name": "stdout"
        }
      ]
    },
    {
      "cell_type": "markdown",
      "metadata": {
        "id": "pHJv8Anyx9Ge",
        "colab_type": "text"
      },
      "source": [
        "#EDA of Property Data"
      ]
    },
    {
      "cell_type": "code",
      "metadata": {
        "id": "ki4LRjMXyETB",
        "colab_type": "code",
        "colab": {}
      },
      "source": [
        ""
      ],
      "execution_count": 53,
      "outputs": []
    }
  ]
}