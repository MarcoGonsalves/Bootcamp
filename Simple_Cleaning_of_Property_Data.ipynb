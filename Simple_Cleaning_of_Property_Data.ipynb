{
  "nbformat": 4,
  "nbformat_minor": 0,
  "metadata": {
    "colab": {
      "name": "Simple Cleaning of Property Data.ipynb",
      "provenance": [],
      "collapsed_sections": [],
      "authorship_tag": "ABX9TyPgeJR0dxN/bO/OiWrmNQ0r",
      "include_colab_link": true
    },
    "kernelspec": {
      "name": "python3",
      "display_name": "Python 3"
    }
  },
  "cells": [
    {
      "cell_type": "markdown",
      "metadata": {
        "id": "view-in-github",
        "colab_type": "text"
      },
      "source": [
        "<a href=\"https://colab.research.google.com/github/MarcoGonsalves/Python-Beginners-Collection/blob/master/Simple_Cleaning_of_Property_Data.ipynb\" target=\"_parent\"><img src=\"https://colab.research.google.com/assets/colab-badge.svg\" alt=\"Open In Colab\"/></a>"
      ]
    },
    {
      "cell_type": "code",
      "metadata": {
        "id": "SreDHjMC9KE2",
        "colab_type": "code",
        "colab": {}
      },
      "source": [
        "# Import Libraries\n",
        "import pandas as pd\n",
        "import numpy as np"
      ],
      "execution_count": 2,
      "outputs": []
    },
    {
      "cell_type": "code",
      "metadata": {
        "id": "gIg1f6y_XByR",
        "colab_type": "code",
        "colab": {
          "base_uri": "https://localhost:8080/",
          "height": 187
        },
        "outputId": "514ec123-0aef-4209-8f9c-151074e75f9d"
      },
      "source": [
        "# Read data file, print columns and head\n",
        "data = pd.read_csv('property data.csv')\n",
        "print(data.columns)\n",
        "print(f'\\n {data.head()}')"
      ],
      "execution_count": 7,
      "outputs": [
        {
          "output_type": "stream",
          "text": [
            "Index(['PID', 'ST_NUM', 'ST_NAME', 'OWN_OCCUPIED', 'NUM_BEDROOMS', 'NUM_BATH',\n",
            "       'SQ_FT'],\n",
            "      dtype='object')\n",
            "\n",
            "            PID  ST_NUM    ST_NAME OWN_OCCUPIED NUM_BEDROOMS NUM_BATH SQ_FT\n",
            "0  100001000.0   104.0     PUTNAM            Y            3        1  1000\n",
            "1  100002000.0   197.0  LEXINGTON            N            3      1.5    --\n",
            "2  100003000.0     NaN  LEXINGTON            N          NaN        1   850\n",
            "3  100004000.0   201.0   BERKELEY           12            1      NaN   700\n",
            "4          NaN   203.0   BERKELEY            Y            3        2  1600\n"
          ],
          "name": "stdout"
        }
      ]
    },
    {
      "cell_type": "code",
      "metadata": {
        "id": "-eZvMN-IYTQH",
        "colab_type": "code",
        "colab": {
          "base_uri": "https://localhost:8080/",
          "height": 357
        },
        "outputId": "299d617e-451f-4003-9ebe-e39cd8909864"
      },
      "source": [
        "# View 'ST_NUM' column with null values\n",
        "print(data['ST_NUM'])\n",
        "print(data['ST_NUM'].isnull())"
      ],
      "execution_count": 4,
      "outputs": [
        {
          "output_type": "stream",
          "text": [
            "0    104.0\n",
            "1    197.0\n",
            "2      NaN\n",
            "3    201.0\n",
            "4    203.0\n",
            "5    207.0\n",
            "6      NaN\n",
            "7    213.0\n",
            "8    215.0\n",
            "Name: ST_NUM, dtype: float64\n",
            "0    False\n",
            "1    False\n",
            "2     True\n",
            "3    False\n",
            "4    False\n",
            "5    False\n",
            "6     True\n",
            "7    False\n",
            "8    False\n",
            "Name: ST_NUM, dtype: bool\n"
          ],
          "name": "stdout"
        }
      ]
    },
    {
      "cell_type": "markdown",
      "metadata": {
        "id": "gfca1Fv2fGyr",
        "colab_type": "text"
      },
      "source": [
        "Pandas recognises 'null' or blank and 'NA' as missing values"
      ]
    },
    {
      "cell_type": "code",
      "metadata": {
        "id": "rSXrBl_sZdx9",
        "colab_type": "code",
        "colab": {
          "base_uri": "https://localhost:8080/",
          "height": 357
        },
        "outputId": "21f6ba71-c59b-4570-a21a-ac49c8effd21"
      },
      "source": [
        "# View 'ST_NUM' column with null values in various forms\n",
        "print(data['NUM_BEDROOMS'])\n",
        "print(data['NUM_BEDROOMS'].isnull())"
      ],
      "execution_count": null,
      "outputs": [
        {
          "output_type": "stream",
          "text": [
            "0      3\n",
            "1      3\n",
            "2    NaN\n",
            "3      1\n",
            "4      3\n",
            "5    NaN\n",
            "6      2\n",
            "7      1\n",
            "8     na\n",
            "Name: NUM_BEDROOMS, dtype: object\n",
            "0    False\n",
            "1    False\n",
            "2     True\n",
            "3    False\n",
            "4    False\n",
            "5     True\n",
            "6    False\n",
            "7    False\n",
            "8    False\n",
            "Name: NUM_BEDROOMS, dtype: bool\n"
          ],
          "name": "stdout"
        }
      ]
    },
    {
      "cell_type": "markdown",
      "metadata": {
        "id": "GQUC4k8afoOC",
        "colab_type": "text"
      },
      "source": [
        "Pandas recognises 'n/a' as missing but not 'na'. Give pandas a list of possible missing values to correctly identify them as null"
      ]
    },
    {
      "cell_type": "code",
      "metadata": {
        "id": "PVn521UsgD0p",
        "colab_type": "code",
        "colab": {
          "base_uri": "https://localhost:8080/",
          "height": 187
        },
        "outputId": "cd52acc5-ff2c-453c-a7e7-82e6ba699c44"
      },
      "source": [
        "# Give pandas a list of values to be read as null\n",
        "missing_values = ['na', '-', '--']\n",
        "data = pd.read_csv('property data.csv', na_values = missing_values)\n",
        "\n",
        "print(data['NUM_BEDROOMS'])"
      ],
      "execution_count": null,
      "outputs": [
        {
          "output_type": "stream",
          "text": [
            "0    3.0\n",
            "1    3.0\n",
            "2    NaN\n",
            "3    1.0\n",
            "4    3.0\n",
            "5    NaN\n",
            "6    2.0\n",
            "7    1.0\n",
            "8    NaN\n",
            "Name: NUM_BEDROOMS, dtype: float64\n"
          ],
          "name": "stdout"
        }
      ]
    },
    {
      "cell_type": "markdown",
      "metadata": {
        "id": "rOl6drhdhNAV",
        "colab_type": "text"
      },
      "source": [
        "Pandas can correctly identify the missing values and as more of these values are discovered they will be added to the missing_values list"
      ]
    },
    {
      "cell_type": "code",
      "metadata": {
        "id": "EDcOCb0VhL62",
        "colab_type": "code",
        "colab": {
          "base_uri": "https://localhost:8080/",
          "height": 357
        },
        "outputId": "02df4bd8-d8be-498d-d8f3-577d5f928d78"
      },
      "source": [
        "# View 'OWN_OCCUPIED' and its null values\n",
        "print(data['OWN_OCCUPIED'])\n",
        "print(data['OWN_OCCUPIED'].isnull())"
      ],
      "execution_count": null,
      "outputs": [
        {
          "output_type": "stream",
          "text": [
            "0      Y\n",
            "1      N\n",
            "2      N\n",
            "3     12\n",
            "4      Y\n",
            "5      Y\n",
            "6    NaN\n",
            "7      Y\n",
            "8      Y\n",
            "Name: OWN_OCCUPIED, dtype: object\n",
            "0    False\n",
            "1    False\n",
            "2    False\n",
            "3    False\n",
            "4    False\n",
            "5    False\n",
            "6     True\n",
            "7    False\n",
            "8    False\n",
            "Name: OWN_OCCUPIED, dtype: bool\n"
          ],
          "name": "stdout"
        }
      ]
    },
    {
      "cell_type": "markdown",
      "metadata": {
        "id": "-oPOlETbhtaP",
        "colab_type": "text"
      },
      "source": [
        "The int value should be null, but pandas does not recognise it as such"
      ]
    },
    {
      "cell_type": "code",
      "metadata": {
        "id": "zzT0k-pfh3ha",
        "colab_type": "code",
        "colab": {}
      },
      "source": [
        "# loop through 'OWN_OCCUPIED' to detect integers by trying to convert value type, if it converts to integer replace the value with 'nan'\n",
        "count = 0\n",
        "for row in data['OWN_OCCUPIED']:\n",
        "  try:\n",
        "    int(row)\n",
        "    data.loc[count, 'OWN_OCCUPIED']=np.nan\n",
        "  except ValueError:\n",
        "    pass\n",
        "  count +=1"
      ],
      "execution_count": null,
      "outputs": []
    },
    {
      "cell_type": "markdown",
      "metadata": {
        "id": "s_wiTqYXkCkz",
        "colab_type": "text"
      },
      "source": [
        "Detect integers and convert to null\n",
        "\n"
      ]
    },
    {
      "cell_type": "code",
      "metadata": {
        "id": "PQaGGCRMjBNc",
        "colab_type": "code",
        "colab": {
          "base_uri": "https://localhost:8080/",
          "height": 187
        },
        "outputId": "137dceae-a97a-4242-8fb8-7bae2032c4fd"
      },
      "source": [
        "# View changes made\n",
        "print(data['OWN_OCCUPIED'])"
      ],
      "execution_count": null,
      "outputs": [
        {
          "output_type": "stream",
          "text": [
            "0      Y\n",
            "1      N\n",
            "2      N\n",
            "3    NaN\n",
            "4      Y\n",
            "5      Y\n",
            "6    NaN\n",
            "7      Y\n",
            "8      Y\n",
            "Name: OWN_OCCUPIED, dtype: object\n"
          ],
          "name": "stdout"
        }
      ]
    },
    {
      "cell_type": "code",
      "metadata": {
        "id": "RBtwhv0skNi7",
        "colab_type": "code",
        "colab": {
          "base_uri": "https://localhost:8080/",
          "height": 204
        },
        "outputId": "c0261f50-49b9-4980-dd99-823476ff3959"
      },
      "source": [
        "# Evaluate sum of all missing values in dataset and summarise\n",
        "print(f'Missing values by column: \\n{data.isnull().sum()}\\n')\n",
        "\n",
        "print(f'Missing values in dataset: {data.isnull().sum().sum()}')"
      ],
      "execution_count": null,
      "outputs": [
        {
          "output_type": "stream",
          "text": [
            "Missing values by column: \n",
            "PID             1\n",
            "ST_NUM          2\n",
            "ST_NAME         0\n",
            "OWN_OCCUPIED    2\n",
            "NUM_BEDROOMS    3\n",
            "NUM_BATH        1\n",
            "SQ_FT           2\n",
            "dtype: int64\n",
            "\n",
            "Missing values in dataset: 11\n"
          ],
          "name": "stdout"
        }
      ]
    }
  ]
}